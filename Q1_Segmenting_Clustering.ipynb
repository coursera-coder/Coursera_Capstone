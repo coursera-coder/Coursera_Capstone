{
    "cells": [
        {
            "cell_type": "code",
            "execution_count": 1,
            "metadata": {},
            "outputs": [],
            "source": "import numpy as np  # useful for many scientific computing in Python\nimport pandas as pd # primary data structure library"
        },
        {
            "cell_type": "markdown",
            "metadata": {},
            "source": "<b> Installing Beautifulsoup4</b>"
        },
        {
            "cell_type": "code",
            "execution_count": 2,
            "metadata": {},
            "outputs": [
                {
                    "name": "stdout",
                    "output_type": "stream",
                    "text": "Solving environment: done\n\n# All requested packages already installed.\n\n"
                }
            ],
            "source": "!conda install -c anaconda beautifulsoup4"
        },
        {
            "cell_type": "markdown",
            "metadata": {},
            "source": "Need to get data from this address: https://en.wikipedia.org/wiki/List_of_postal_codes_of_Canada:_M"
        },
        {
            "cell_type": "code",
            "execution_count": 3,
            "metadata": {},
            "outputs": [],
            "source": "from bs4 import BeautifulSoup\n\nurl=\"https://en.wikipedia.org/wiki/List_of_postal_codes_of_Canada:_M\"\n\nimport requests\nresponse = requests.get(url)\n#print (response.status_code) #Should be 200 for a good request\n#print (response.content)\n\nsoup = BeautifulSoup(response.content, 'html.parser')\n"
        },
        {
            "cell_type": "markdown",
            "metadata": {},
            "source": "OK now we have soup! Let's pase what we got"
        },
        {
            "cell_type": "code",
            "execution_count": 4,
            "metadata": {},
            "outputs": [
                {
                    "name": "stdout",
                    "output_type": "stream",
                    "text": "Number of rows = 181\nThe Table Headers are:\n['Postal code', 'Borough', 'Neighborhood']\n"
                }
            ],
            "source": "gdp_table = soup.find(\"table\", attrs={\"class\": \"wikitable\"})\ngdp_table_data = gdp_table.tbody.find_all(\"tr\") \nprint(\"Number of rows = \" + str(len(gdp_table_data)))\n\n#let's get the headers\nheadings = []\nfor th in gdp_table_data[0].find_all(\"th\"):\n    # remove any newlines and extra spaces from left and right\n    headings.append(th.string.replace('\\n', ' ').strip())\n\nprint(\"The Table Headers are:\")\nprint(headings)\n\n"
        },
        {
            "cell_type": "code",
            "execution_count": 5,
            "metadata": {},
            "outputs": [
                {
                    "name": "stdout",
                    "output_type": "stream",
                    "text": "Number of rows =  103\n"
                },
                {
                    "data": {
                        "text/html": "<div>\n<style scoped>\n    .dataframe tbody tr th:only-of-type {\n        vertical-align: middle;\n    }\n\n    .dataframe tbody tr th {\n        vertical-align: top;\n    }\n\n    .dataframe thead th {\n        text-align: right;\n    }\n</style>\n<table border=\"1\" class=\"dataframe\">\n  <thead>\n    <tr style=\"text-align: right;\">\n      <th></th>\n      <th>Postal code</th>\n      <th>Borough</th>\n      <th>Neighborhood</th>\n    </tr>\n  </thead>\n  <tbody>\n    <tr>\n      <th>98</th>\n      <td>M8X</td>\n      <td>Etobicoke</td>\n      <td>The Kingsway / Montgomery Road  / Old Mill North</td>\n    </tr>\n    <tr>\n      <th>99</th>\n      <td>M4Y</td>\n      <td>Downtown Toronto</td>\n      <td>Church and Wellesley</td>\n    </tr>\n    <tr>\n      <th>100</th>\n      <td>M7Y</td>\n      <td>East Toronto</td>\n      <td>Business reply mail Processing CentrE</td>\n    </tr>\n    <tr>\n      <th>101</th>\n      <td>M8Y</td>\n      <td>Etobicoke</td>\n      <td>Old Mill South / King's Mill Park / Sunnylea /...</td>\n    </tr>\n    <tr>\n      <th>102</th>\n      <td>M8Z</td>\n      <td>Etobicoke</td>\n      <td>Mimico NW / The Queensway West / South of Bloo...</td>\n    </tr>\n  </tbody>\n</table>\n</div>",
                        "text/plain": "    Postal code           Borough  \\\n98          M8X         Etobicoke   \n99          M4Y  Downtown Toronto   \n100         M7Y      East Toronto   \n101         M8Y         Etobicoke   \n102         M8Z         Etobicoke   \n\n                                          Neighborhood  \n98    The Kingsway / Montgomery Road  / Old Mill North  \n99                                Church and Wellesley  \n100              Business reply mail Processing CentrE  \n101  Old Mill South / King's Mill Park / Sunnylea /...  \n102  Mimico NW / The Queensway West / South of Bloo...  "
                    },
                    "execution_count": 5,
                    "metadata": {},
                    "output_type": "execute_result"
                }
            ],
            "source": "df_q1 = pd.DataFrame(columns=headings)\ncontents = []\n\nfor row in gdp_table_data[1:]:\n    myrow = []\n    for td in row.find_all(\"td\"):\n        # remove any newlines and extra spaces from left and right\n        myrow.append(td.string.replace('\\n', ' ').strip())\n    #If a cell has a borough but a Not assigned neighborhood, then the neighborhood will be the same as the borough.\n    if myrow[2] == \"\":\n        myrow[2] = myrow[1]\n    df_q1.loc[len(df_q1)] = myrow\n    \ndf_q1[\"Borough\"].replace(\"Not assigned\", np.nan, inplace=True)\ndf_q1.dropna(subset=[\"Borough\"], inplace=True)\ndf_q1.reset_index(drop=True, inplace=True)\nprint(\"Number of rows = \", str(len(df_q1)))\ndf_q1.tail()\n"
        },
        {
            "cell_type": "markdown",
            "metadata": {},
            "source": "More than one neighborhood can exist in one postal code area. For example, in the table on the Wikipedia page, you will notice that M5A is listed twice and has two neighborhoods: Harbourfront and Regent Park. These two rows will be combined into one row with the neighborhoods separated with a comma\n"
        },
        {
            "cell_type": "code",
            "execution_count": 6,
            "metadata": {},
            "outputs": [
                {
                    "data": {
                        "text/html": "<div>\n<style scoped>\n    .dataframe tbody tr th:only-of-type {\n        vertical-align: middle;\n    }\n\n    .dataframe tbody tr th {\n        vertical-align: top;\n    }\n\n    .dataframe thead th {\n        text-align: right;\n    }\n</style>\n<table border=\"1\" class=\"dataframe\">\n  <thead>\n    <tr style=\"text-align: right;\">\n      <th></th>\n      <th>Postal code</th>\n      <th>Borough</th>\n      <th>Neighborhood</th>\n    </tr>\n  </thead>\n  <tbody>\n    <tr>\n      <th>2</th>\n      <td>M5A</td>\n      <td>Downtown Toronto</td>\n      <td>Regent Park / Harbourfront</td>\n    </tr>\n  </tbody>\n</table>\n</div>",
                        "text/plain": "  Postal code           Borough                Neighborhood\n2         M5A  Downtown Toronto  Regent Park / Harbourfront"
                    },
                    "execution_count": 6,
                    "metadata": {},
                    "output_type": "execute_result"
                }
            ],
            "source": "#Show the issue the question is talking about:\ndf_q1.loc[df_q1['Postal code'] == \"M5A\"]"
        },
        {
            "cell_type": "markdown",
            "metadata": {},
            "source": "Hmmm, looks like they are already combined in the raw dataset. We can replace the \"/\" with a \",\". Seems pointless, So here is code that would combine text from same rows with a \",\", if they existed in seperate rows."
        },
        {
            "cell_type": "code",
            "execution_count": 7,
            "metadata": {},
            "outputs": [
                {
                    "data": {
                        "text/html": "<div>\n<style scoped>\n    .dataframe tbody tr th:only-of-type {\n        vertical-align: middle;\n    }\n\n    .dataframe tbody tr th {\n        vertical-align: top;\n    }\n\n    .dataframe thead th {\n        text-align: right;\n    }\n</style>\n<table border=\"1\" class=\"dataframe\">\n  <thead>\n    <tr style=\"text-align: right;\">\n      <th></th>\n      <th>Postal code</th>\n      <th>Borough</th>\n      <th>Neighborhood</th>\n    </tr>\n  </thead>\n  <tbody>\n    <tr>\n      <th>98</th>\n      <td>M9N</td>\n      <td>York</td>\n      <td>Weston</td>\n    </tr>\n    <tr>\n      <th>99</th>\n      <td>M9P</td>\n      <td>Etobicoke</td>\n      <td>Westmount</td>\n    </tr>\n    <tr>\n      <th>100</th>\n      <td>M9R</td>\n      <td>Etobicoke</td>\n      <td>Kingsview Village / St. Phillips / Martin Grov...</td>\n    </tr>\n    <tr>\n      <th>101</th>\n      <td>M9V</td>\n      <td>Etobicoke</td>\n      <td>South Steeles / Silverstone / Humbergate / Jam...</td>\n    </tr>\n    <tr>\n      <th>102</th>\n      <td>M9W</td>\n      <td>Etobicoke</td>\n      <td>Northwest</td>\n    </tr>\n  </tbody>\n</table>\n</div>",
                        "text/plain": "    Postal code    Borough                                       Neighborhood\n98          M9N       York                                             Weston\n99          M9P  Etobicoke                                          Westmount\n100         M9R  Etobicoke  Kingsview Village / St. Phillips / Martin Grov...\n101         M9V  Etobicoke  South Steeles / Silverstone / Humbergate / Jam...\n102         M9W  Etobicoke                                          Northwest"
                    },
                    "execution_count": 7,
                    "metadata": {},
                    "output_type": "execute_result"
                }
            ],
            "source": "df_q1 = df_q1.groupby(['Postal code','Borough'])['Neighborhood'].apply(', '.join).reset_index()\ndf_q1.tail()"
        },
        {
            "cell_type": "code",
            "execution_count": 8,
            "metadata": {},
            "outputs": [
                {
                    "name": "stdout",
                    "output_type": "stream",
                    "text": "As you can see the number of rows is still 103\n"
                }
            ],
            "source": "print(\"As you can see the number of rows is still \" + str(len(df_q1)))"
        },
        {
            "cell_type": "markdown",
            "metadata": {},
            "source": "So we ansered the question of combining like zip code neighborhoods, but in this dataset it is unneccesary.\n\nFinnaly, they want us to do this: \nIn the last cell of your notebook, use the .shape method to print the number of rows of your dataframe."
        },
        {
            "cell_type": "code",
            "execution_count": 9,
            "metadata": {},
            "outputs": [
                {
                    "data": {
                        "text/plain": "(103, 3)"
                    },
                    "execution_count": 9,
                    "metadata": {},
                    "output_type": "execute_result"
                }
            ],
            "source": "df_q1.shape"
        }
    ],
    "metadata": {
        "kernelspec": {
            "display_name": "Python 3.6",
            "language": "python",
            "name": "python3"
        },
        "language_info": {
            "codemirror_mode": {
                "name": "ipython",
                "version": 3
            },
            "file_extension": ".py",
            "mimetype": "text/x-python",
            "name": "python",
            "nbconvert_exporter": "python",
            "pygments_lexer": "ipython3",
            "version": "3.6.9"
        }
    },
    "nbformat": 4,
    "nbformat_minor": 1
}